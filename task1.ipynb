{
  "nbformat": 4,
  "nbformat_minor": 0,
  "metadata": {
    "colab": {
      "name": "AML_hw5_task1.ipynb",
      "provenance": []
    },
    "kernelspec": {
      "name": "python3",
      "display_name": "Python 3"
    }
  },
  "cells": [
    {
      "cell_type": "code",
      "metadata": {
        "id": "y4NstE6fM5h-",
        "colab_type": "code",
        "colab": {
          "base_uri": "https://localhost:8080/",
          "height": 35
        },
        "outputId": "e4183635-1c91-4342-e2c5-3c468e6320b4"
      },
      "source": [
        "from sklearn.datasets import load_digits\n",
        "from keras.models import Sequential\n",
        "from keras.layers import Dense, Activation\n",
        "from sklearn.model_selection import train_test_split\n",
        "import keras\n",
        "from sklearn.model_selection import GridSearchCV\n",
        "from keras.wrappers.scikit_learn import KerasClassifier\n",
        "from keras.regularizers import l2\n",
        "from keras import regularizers\n",
        "from sklearn.model_selection import StratifiedShuffleSplit"
      ],
      "execution_count": 1,
      "outputs": [
        {
          "output_type": "stream",
          "text": [
            "Using TensorFlow backend.\n"
          ],
          "name": "stderr"
        }
      ]
    },
    {
      "cell_type": "code",
      "metadata": {
        "id": "rcfhyjURNBsj",
        "colab_type": "code",
        "colab": {}
      },
      "source": [
        "dig = load_digits()"
      ],
      "execution_count": 0,
      "outputs": []
    },
    {
      "cell_type": "code",
      "metadata": {
        "id": "F4adEghiNDKA",
        "colab_type": "code",
        "colab": {}
      },
      "source": [
        "X = dig['data']\n",
        "y = dig['target']\n",
        "one_hot_labels = keras.utils.to_categorical(y, num_classes=10)"
      ],
      "execution_count": 0,
      "outputs": []
    },
    {
      "cell_type": "code",
      "metadata": {
        "id": "CbnwdiVHNDsc",
        "colab_type": "code",
        "colab": {}
      },
      "source": [
        "X_train, X_test, y_train, y_test = train_test_split(X, one_hot_labels, random_state=0)"
      ],
      "execution_count": 0,
      "outputs": []
    },
    {
      "cell_type": "code",
      "metadata": {
        "id": "J_5NDRYBOCHd",
        "colab_type": "code",
        "colab": {}
      },
      "source": [
        "model = Sequential()\n",
        "model.add(Dense(128, input_dim=64))\n",
        "model.add(Activation('relu'))\n",
        "model.add(Dense(64))\n",
        "model.add(Activation('relu'))\n",
        "model.add(Dense(10))\n",
        "model.add(Activation('softmax'))\n",
        "model.compile(optimizer='adam',\n",
        "              loss='categorical_crossentropy',\n",
        "              metrics=['accuracy'])"
      ],
      "execution_count": 0,
      "outputs": []
    },
    {
      "cell_type": "code",
      "metadata": {
        "id": "OsLToLvb57-7",
        "colab_type": "code",
        "colab": {
          "base_uri": "https://localhost:8080/",
          "height": 421
        },
        "outputId": "62fe4d3b-a06a-4665-8437-4b100064ec35"
      },
      "source": [
        "model.fit(X_train,y_train,validation_split=0.2, epochs=10)"
      ],
      "execution_count": 11,
      "outputs": [
        {
          "output_type": "stream",
          "text": [
            "Train on 1077 samples, validate on 270 samples\n",
            "Epoch 1/10\n",
            "1077/1077 [==============================] - 0s 134us/step - loss: 2.7132 - accuracy: 0.3993 - val_loss: 0.6930 - val_accuracy: 0.7444\n",
            "Epoch 2/10\n",
            "1077/1077 [==============================] - 0s 50us/step - loss: 0.4126 - accuracy: 0.8728 - val_loss: 0.3099 - val_accuracy: 0.9074\n",
            "Epoch 3/10\n",
            "1077/1077 [==============================] - 0s 50us/step - loss: 0.2031 - accuracy: 0.9378 - val_loss: 0.1915 - val_accuracy: 0.9407\n",
            "Epoch 4/10\n",
            "1077/1077 [==============================] - 0s 48us/step - loss: 0.1300 - accuracy: 0.9638 - val_loss: 0.1311 - val_accuracy: 0.9667\n",
            "Epoch 5/10\n",
            "1077/1077 [==============================] - 0s 48us/step - loss: 0.0898 - accuracy: 0.9759 - val_loss: 0.1182 - val_accuracy: 0.9704\n",
            "Epoch 6/10\n",
            "1077/1077 [==============================] - 0s 49us/step - loss: 0.0722 - accuracy: 0.9842 - val_loss: 0.1007 - val_accuracy: 0.9741\n",
            "Epoch 7/10\n",
            "1077/1077 [==============================] - 0s 48us/step - loss: 0.0466 - accuracy: 0.9926 - val_loss: 0.0956 - val_accuracy: 0.9667\n",
            "Epoch 8/10\n",
            "1077/1077 [==============================] - 0s 48us/step - loss: 0.0371 - accuracy: 0.9944 - val_loss: 0.0888 - val_accuracy: 0.9778\n",
            "Epoch 9/10\n",
            "1077/1077 [==============================] - 0s 47us/step - loss: 0.0293 - accuracy: 0.9972 - val_loss: 0.0918 - val_accuracy: 0.9704\n",
            "Epoch 10/10\n",
            "1077/1077 [==============================] - 0s 49us/step - loss: 0.0213 - accuracy: 0.9981 - val_loss: 0.0770 - val_accuracy: 0.9741\n"
          ],
          "name": "stdout"
        },
        {
          "output_type": "execute_result",
          "data": {
            "text/plain": [
              "<keras.callbacks.callbacks.History at 0x7f55c39c7eb8>"
            ]
          },
          "metadata": {
            "tags": []
          },
          "execution_count": 11
        }
      ]
    },
    {
      "cell_type": "code",
      "metadata": {
        "id": "da5jxhM7RFaF",
        "colab_type": "code",
        "colab": {}
      },
      "source": [
        "def create_model(neurons_1 = 16, neurons_2 = 16, l2_penalty = 0.01):\n",
        "  model = Sequential()\n",
        "  model.add(Dense(neurons_1, input_dim=64, kernel_regularizer= l2(l2_penalty)))\n",
        "  model.add(Activation('relu'))\n",
        "  model.add(Dense(neurons_2, kernel_regularizer=l2(l2_penalty)))\n",
        "  model.add(Activation('relu'))\n",
        "  model.add(Dense(10))\n",
        "  model.add(Activation('softmax'))\n",
        "  model.compile(optimizer='adam',\n",
        "              loss='categorical_crossentropy',\n",
        "              metrics=['accuracy'])\n",
        "  return model"
      ],
      "execution_count": 0,
      "outputs": []
    },
    {
      "cell_type": "code",
      "metadata": {
        "id": "m7ZKiTh6R0bg",
        "colab_type": "code",
        "colab": {}
      },
      "source": [
        "model = KerasClassifier(build_fn=create_model, epochs=10, batch_size=32)"
      ],
      "execution_count": 0,
      "outputs": []
    },
    {
      "cell_type": "code",
      "metadata": {
        "id": "1AqBWYFcX_Pj",
        "colab_type": "code",
        "colab": {}
      },
      "source": [
        "ss = StratifiedShuffleSplit(n_splits=2, test_size=0.25, random_state=0)"
      ],
      "execution_count": 0,
      "outputs": []
    },
    {
      "cell_type": "code",
      "metadata": {
        "id": "FEFtPYjhPPOL",
        "colab_type": "code",
        "colab": {
          "base_uri": "https://localhost:8080/",
          "height": 459
        },
        "outputId": "eebdf413-cc4f-41a7-c207-7234a5ab7cef"
      },
      "source": [
        "neurons_1 = [64, 128, 256]\n",
        "neurons_2 = [64, 128, 256]\n",
        "l_2 = [0.01, 0.1, 1]\n",
        "param_grid = dict(neurons_1 = neurons_1, neurons_2 = neurons_2, l2_penalty = l_2)\n",
        "grid = GridSearchCV(estimator=model, param_grid=param_grid, n_jobs=-1, cv=ss)\n",
        "grid_result = grid.fit(X_train, y_train)\n",
        "# summarize results\n",
        "print(\"Best: %f using %s\" % (grid_result.best_score_, grid_result.best_params_))"
      ],
      "execution_count": 15,
      "outputs": [
        {
          "output_type": "stream",
          "text": [
            "/usr/local/lib/python3.6/dist-packages/joblib/externals/loky/process_executor.py:706: UserWarning: A worker stopped while some jobs were given to the executor. This can be caused by a too short worker timeout or by a memory leak.\n",
            "  \"timeout or by a memory leak.\", UserWarning\n"
          ],
          "name": "stderr"
        },
        {
          "output_type": "stream",
          "text": [
            "Epoch 1/10\n",
            "1347/1347 [==============================] - 0s 106us/step - loss: 3.2591 - accuracy: 0.5672\n",
            "Epoch 2/10\n",
            "1347/1347 [==============================] - 0s 39us/step - loss: 1.5990 - accuracy: 0.9198\n",
            "Epoch 3/10\n",
            "1347/1347 [==============================] - 0s 47us/step - loss: 1.3163 - accuracy: 0.9629\n",
            "Epoch 4/10\n",
            "1347/1347 [==============================] - 0s 44us/step - loss: 1.1638 - accuracy: 0.9762\n",
            "Epoch 5/10\n",
            "1347/1347 [==============================] - 0s 46us/step - loss: 1.0617 - accuracy: 0.9822\n",
            "Epoch 6/10\n",
            "1347/1347 [==============================] - 0s 41us/step - loss: 0.9863 - accuracy: 0.9874\n",
            "Epoch 7/10\n",
            "1347/1347 [==============================] - 0s 44us/step - loss: 0.9089 - accuracy: 0.9918\n",
            "Epoch 8/10\n",
            "1347/1347 [==============================] - 0s 44us/step - loss: 0.8567 - accuracy: 0.9926\n",
            "Epoch 9/10\n",
            "1347/1347 [==============================] - 0s 41us/step - loss: 0.7967 - accuracy: 0.9955\n",
            "Epoch 10/10\n",
            "1347/1347 [==============================] - 0s 52us/step - loss: 0.7457 - accuracy: 0.9993\n",
            "Best: 0.974777 using {'l2_penalty': 0.01, 'neurons_1': 128, 'neurons_2': 64}\n"
          ],
          "name": "stdout"
        }
      ]
    },
    {
      "cell_type": "code",
      "metadata": {
        "id": "DVoX0cqHSSpi",
        "colab_type": "code",
        "colab": {
          "base_uri": "https://localhost:8080/",
          "height": 54
        },
        "outputId": "221df026-6267-475c-e9c8-88e320ad73e1"
      },
      "source": [
        "res = grid.score(X_test,y_test)\n",
        "print(\"Accuracy on test data = \", round(res,4)*100,\"%\")"
      ],
      "execution_count": 18,
      "outputs": [
        {
          "output_type": "stream",
          "text": [
            "450/450 [==============================] - 0s 37us/step\n",
            "Accuracy on test data =  96.89 %\n"
          ],
          "name": "stdout"
        }
      ]
    },
    {
      "cell_type": "markdown",
      "metadata": {
        "id": "JgpARdke7QqT",
        "colab_type": "text"
      },
      "source": [
        "We see that the Grid Search gives us the best parameters when first hidden layers has 128 units, second hidden layer has 64 units and the l2 penalty is 0.01. This model gives a 96.89% accuracy on the test data."
      ]
    }
  ]
}